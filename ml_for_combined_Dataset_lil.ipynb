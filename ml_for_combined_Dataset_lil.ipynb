{
  "nbformat": 4,
  "nbformat_minor": 0,
  "metadata": {
    "colab": {
      "provenance": [],
      "authorship_tag": "ABX9TyPp9dtwRUMpqehTvYomGNVg",
      "include_colab_link": true
    },
    "kernelspec": {
      "name": "python3",
      "display_name": "Python 3"
    },
    "language_info": {
      "name": "python"
    }
  },
  "cells": [
    {
      "cell_type": "markdown",
      "metadata": {
        "id": "view-in-github",
        "colab_type": "text"
      },
      "source": [
        "<a href=\"https://colab.research.google.com/github/myself-rajarajan/LIL/blob/main/ml_for_combined_Dataset_lil.ipynb\" target=\"_parent\"><img src=\"https://colab.research.google.com/assets/colab-badge.svg\" alt=\"Open In Colab\"/></a>"
      ]
    },
    {
      "cell_type": "code",
      "source": [
        "from google.colab import drive\n",
        "drive.mount('/content/drive')"
      ],
      "metadata": {
        "colab": {
          "base_uri": "https://localhost:8080/"
        },
        "id": "aF3JPLvQdwe2",
        "outputId": "ea92b8ed-d712-4bc1-cf2d-7a46b38bb435"
      },
      "execution_count": 13,
      "outputs": [
        {
          "output_type": "stream",
          "name": "stdout",
          "text": [
            "Mounted at /content/drive\n"
          ]
        }
      ]
    },
    {
      "cell_type": "code",
      "source": [
        "import os\n",
        "\n",
        "# Define the path to your folder\n",
        "my_folder_path = '/content/drive/My Drive/Colab_Notebooks'\n",
        "\n",
        "# List the files inside that folder to confirm access\n",
        "print(os.listdir(my_folder_path))"
      ],
      "metadata": {
        "colab": {
          "base_uri": "https://localhost:8080/"
        },
        "id": "5k-paSOHgjjq",
        "outputId": "b2b6fa98-5332-48fc-82fd-0688bf5e1fc9"
      },
      "execution_count": 14,
      "outputs": [
        {
          "output_type": "stream",
          "name": "stdout",
          "text": [
            "['Heart Disease Predictor', 'reports', 'ml_for_combined_Dataset_lil.ipynb']\n"
          ]
        }
      ]
    },
    {
      "cell_type": "code",
      "execution_count": 18,
      "metadata": {
        "colab": {
          "base_uri": "https://localhost:8080/"
        },
        "id": "ZhCt4qW7QVWu",
        "outputId": "3a9650fe-63de-430b-d5fc-49b13093137e"
      },
      "outputs": [
        {
          "output_type": "stream",
          "name": "stdout",
          "text": [
            "Fetching and combining datasets...\n"
          ]
        },
        {
          "output_type": "stream",
          "name": "stderr",
          "text": [
            "/usr/local/lib/python3.12/dist-packages/xgboost/training.py:183: UserWarning: [05:43:53] WARNING: /workspace/src/learner.cc:738: \n",
            "Parameters: { \"use_label_encoder\" } are not used.\n",
            "\n",
            "  bst.update(dtrain, iteration=i, fobj=obj)\n"
          ]
        },
        {
          "name": "stdout",
          "output_type": "stream",
          "text": [
            "Dataset prepared successfully.\n",
            "Training models...\n",
            "Models trained successfully.\n",
            "\n",
            "--- Heart Disease Prediction System ---\n",
            "Please enter the following health data to generate a report.\n",
            "-> Age (years): 54\n",
            "-> Sex (1 = Male, 0 = Female): 1\n",
            "-> Chest Pain Type (1-4): 4\n",
            "-> Resting Blood Pressure (mmHg): 140\n",
            "-> Serum Cholesterol (mg/dL): 210\n",
            "-> Fasting Blood Sugar > 120 mg/dL (1=True, 0=False): 140\n",
            "-> Resting ECG Results (0-2): 2\n",
            "-> Maximum Heart Rate Achieved: 145\n",
            "-> Exercise-Induced Angina (1=Yes, 0=No): 0\n",
            "-> ST Depression Induced by Exercise: 2.3\n",
            "-> Slope of Peak Exercise ST Segment (1-3): 3\n",
            "-> Number of Major Vessels Colored by Fluoroscopy (0-3): 2\n",
            "-> Thalassemia Type (3=Normal, 6=Fixed, 7=Reversible): 7\n"
          ]
        },
        {
          "output_type": "stream",
          "name": "stderr",
          "text": [
            "/tmp/ipython-input-2749584291.py:130: FutureWarning: \n",
            "\n",
            "Passing `palette` without assigning `hue` is deprecated and will be removed in v0.14.0. Assign the `x` variable to `hue` and set `legend=False` for the same effect.\n",
            "\n",
            "  sns.barplot(x=labels, y=risks, palette=colors)\n"
          ]
        },
        {
          "output_type": "stream",
          "name": "stdout",
          "text": [
            "\n",
            "✅ Report generated successfully: /content/drive/My Drive/Colab_Notebooks/reports/Heart_Disease_Report_20250906_054434.pdf\n"
          ]
        }
      ],
      "source": [
        "# =============================================================================\n",
        "# 1. IMPORT LIBRARIES\n",
        "# =============================================================================\n",
        "import os\n",
        "import pandas as pd\n",
        "import numpy as np\n",
        "import joblib\n",
        "import xgboost as xgb\n",
        "import matplotlib.pyplot as plt\n",
        "import seaborn as sns\n",
        "from datetime import datetime\n",
        "from sklearn.model_selection import train_test_split\n",
        "from sklearn.preprocessing import StandardScaler\n",
        "from sklearn.linear_model import LogisticRegression\n",
        "from sklearn.naive_bayes import GaussianNB\n",
        "from fpdf import FPDF\n",
        "from ucimlrepo import fetch_ucirepo  # <-- LIBRARY FOR NEW DATASET LOADING\n",
        "\n",
        "# =============================================================================\n",
        "# 2. LOAD AND PREPARE THE DATA (USING UCIMLREPO)\n",
        "# =============================================================================\n",
        "print(\"Fetching and combining datasets...\")\n",
        "\n",
        "# --- Part A: Fetch dataset using ucimlrepo ---\n",
        "# This fetches a consolidated version of the heart disease dataset\n",
        "heart_disease = fetch_ucirepo(id=45)\n",
        "X_data = heart_disease.data.features\n",
        "y_data = heart_disease.data.targets\n",
        "df_repo = pd.concat([X_data, y_data], axis=1)\n",
        "df_repo.rename(columns={'num': 'target'}, inplace=True)\n",
        "\n",
        "# --- Part B: Fetch the specific Cleveland dataset from URL ---\n",
        "cleveland_url = \"https://archive.ics.uci.edu/ml/machine-learning-databases/heart-disease/processed.cleveland.data\"\n",
        "column_names = [\"age\", \"sex\", \"cp\", \"trestbps\", \"chol\", \"fbs\", \"restecg\", \"thalach\",\n",
        "                \"exang\", \"oldpeak\", \"slope\", \"ca\", \"thal\", \"target\"]\n",
        "df_cleveland = pd.read_csv(cleveland_url, names=column_names, na_values='?')\n",
        "\n",
        "# --- Part C: Combine the two dataframes ---\n",
        "# We combine both sources to create a more comprehensive dataset\n",
        "df = pd.concat([df_repo, df_cleveland], ignore_index=True)\n",
        "# Remove any duplicate rows that might exist between the two sources\n",
        "df.drop_duplicates(inplace=True)\n",
        "df.reset_index(drop=True, inplace=True) # Reset index after dropping rows\n",
        "\n",
        "# --- Data Cleaning (These steps are still essential) ---\n",
        "# The data fetched contains missing values (NaNs), which must be removed.\n",
        "df.dropna(inplace=True)\n",
        "\n",
        "# Ensure all columns have a numeric type for the models\n",
        "df = df.astype(float)\n",
        "\n",
        "# The 'target' column has values from 0 (no disease) to 4.\n",
        "# We convert this into a binary classification problem: 0 = No Disease, 1 = Has Disease.\n",
        "df[\"target\"] = df[\"target\"].apply(lambda x: 1 if x > 0 else 0)\n",
        "print(\"Dataset prepared successfully.\")\n",
        "\n",
        "# =============================================================================\n",
        "# 3. FEATURE ENGINEERING AND MODEL TRAINING\n",
        "# =============================================================================\n",
        "# Separate the cleaned features (X) and target (y)\n",
        "X = df.drop(columns=[\"target\"])\n",
        "y = df[\"target\"]\n",
        "\n",
        "# Split the data into training (80%) and testing (20%) sets\n",
        "X_train, X_test, y_train, y_test = train_test_split(X, y, test_size=0.2, random_state=42, stratify=y)\n",
        "\n",
        "# Scale the features to standardize their range, improving model performance\n",
        "scaler = StandardScaler()\n",
        "X_train_scaled = scaler.fit_transform(X_train)\n",
        "X_test_scaled = scaler.transform(X_test)\n",
        "\n",
        "# --- Train Machine Learning Models ---\n",
        "print(\"Training models...\")\n",
        "log_reg = LogisticRegression(random_state=42, solver='liblinear')\n",
        "log_reg.fit(X_train_scaled, y_train)\n",
        "\n",
        "xgb_model = xgb.XGBClassifier(eval_metric=\"logloss\", use_label_encoder=False, random_state=42)\n",
        "xgb_model.fit(X_train_scaled, y_train)\n",
        "\n",
        "nb_model = GaussianNB()\n",
        "nb_model.fit(X_train_scaled, y_train)\n",
        "print(\"Models trained successfully.\")\n",
        "\n",
        "# --- Save Models and Scaler for future use ---\n",
        "joblib.dump(log_reg, \"log_reg_model.pkl\")\n",
        "joblib.dump(xgb_model, \"xgb_model.pkl\")\n",
        "joblib.dump(nb_model, \"nb_model.pkl\")\n",
        "joblib.dump(scaler, \"scaler.pkl\")\n",
        "\n",
        "# =============================================================================\n",
        "# 4. REPORT GENERATION FUNCTIONS\n",
        "# =============================================================================\n",
        "# (This entire section is identical to your original code)\n",
        "feature_descriptions = {\n",
        "    \"age\": \"Age (years)\",\n",
        "    \"sex\": \"Sex (1 = Male, 0 = Female)\",\n",
        "    \"cp\": \"Chest Pain Type (1-4)\",\n",
        "    \"trestbps\": \"Resting Blood Pressure (mmHg)\",\n",
        "    \"chol\": \"Serum Cholesterol (mg/dL)\",\n",
        "    \"fbs\": \"Fasting Blood Sugar > 120 mg/dL (1=True, 0=False)\",\n",
        "    \"restecg\": \"Resting ECG Results (0-2)\",\n",
        "    \"thalach\": \"Maximum Heart Rate Achieved\",\n",
        "    \"exang\": \"Exercise-Induced Angina (1=Yes, 0=No)\",\n",
        "    \"oldpeak\": \"ST Depression Induced by Exercise\",\n",
        "    \"slope\": \"Slope of Peak Exercise ST Segment (1-3)\",\n",
        "    \"ca\": \"Number of Major Vessels Colored by Fluoroscopy (0-3)\",\n",
        "    \"thal\": \"Thalassemia Type (3=Normal, 6=Fixed, 7=Reversible)\"\n",
        "}\n",
        "\n",
        "diet_chart = [\n",
        "    [\"Food Type\", \"Recommended Items\"],\n",
        "    [\"Fruits\", \"Apples, Berries, Oranges\"],\n",
        "    [\"Vegetables\", \"Spinach, Carrots, Broccoli\"],\n",
        "    [\"Proteins\", \"Fish, Chicken, Beans\"],\n",
        "    [\"Grains\", \"Oats, Brown Rice, Whole Wheat\"],\n",
        "    [\"Dairy\", \"Low-fat Milk, Yogurt\"],\n",
        "    [\"Healthy Fats\", \"Olive Oil, Nuts, Avocado\"]\n",
        "]\n",
        "\n",
        "def risk_level(prob):\n",
        "    if prob < 0.4: return \"Low Risk\"\n",
        "    elif 0.4 <= prob < 0.7: return \"Moderate Risk\"\n",
        "    else: return \"High Risk\"\n",
        "\n",
        "def plot_risk_chart(prob_log, prob_xgb, prob_nb, report_filename):\n",
        "    risks = [prob_log * 100, prob_xgb * 100, prob_nb * 100]\n",
        "    labels = [\"Logistic Regression\", \"XGBoost\", \"Naïve Bayes\"]\n",
        "    colors = ['green' if r < 40 else 'gold' if r < 70 else 'red' for r in risks]\n",
        "    plt.figure(figsize=(8, 5))\n",
        "    sns.barplot(x=labels, y=risks, palette=colors)\n",
        "    plt.ylabel(\"Heart Disease Probability (%)\")\n",
        "    plt.title(\"Heart Disease Risk Analysis by Model\")\n",
        "    plt.ylim(0, 100)\n",
        "    for index, value in enumerate(risks):\n",
        "        plt.text(index, value + 1, f'{value:.2f}%', ha='center', va='bottom')\n",
        "    os.makedirs(\"reports\", exist_ok=True)\n",
        "    chart_path = f\"reports/{report_filename}_chart.png\"\n",
        "    plt.savefig(chart_path)\n",
        "    plt.close()\n",
        "    return chart_path\n",
        "\n",
        "def generate_pdf_report(risk, prob_log, prob_xgb, prob_nb, user_inputs):\n",
        "    timestamp = datetime.now().strftime(\"%Y%m%d_%H%M%S\")\n",
        "    report_filename = f\"Heart_Disease_Report_{timestamp}\"\n",
        "    chart_path = plot_risk_chart(prob_log, prob_xgb, prob_nb, report_filename)\n",
        "    pdf = FPDF()\n",
        "    pdf.set_auto_page_break(auto=True, margin=15)\n",
        "    pdf.add_page()\n",
        "    pdf.set_font(\"Arial\", \"B\", 16)\n",
        "    pdf.cell(0, 10, \"Machine Learning-Based Heart Disease Prediction Report\", ln=True, align='C')\n",
        "    pdf.ln(10)\n",
        "    pdf.set_font(\"Arial\", \"B\", 12)\n",
        "    pdf.cell(0, 10, \"Patient's Health Data:\", ln=True)\n",
        "    pdf.set_font(\"Arial\", size=10)\n",
        "    col_width = pdf.w / 2.2\n",
        "    for key, value in user_inputs.items():\n",
        "        pdf.cell(col_width, 8, str(key), border=1)\n",
        "        pdf.cell(col_width, 8, str(value), border=1, ln=True)\n",
        "    pdf.ln(5)\n",
        "    pdf.image(chart_path, x=15, w=pdf.w - 30)\n",
        "    pdf.ln(5)\n",
        "    pdf.set_font(\"Arial\", \"B\", 14)\n",
        "    pdf.cell(0, 10, f\"Overall Predicted Risk Level: {risk}\", ln=True, align='C')\n",
        "    pdf.ln(5)\n",
        "    pdf.set_font(\"Arial\", \"B\", 12)\n",
        "    pdf.cell(0, 10, \"Prediction Details:\", ln=True)\n",
        "    pdf.set_font(\"Arial\", size=11)\n",
        "    pdf.cell(0, 8, f\"- Logistic Regression Risk: {prob_log*100:.2f}%\", ln=True)\n",
        "    pdf.cell(0, 8, f\"- XGBoost Risk: {prob_xgb*100:.2f}%\", ln=True)\n",
        "    pdf.cell(0, 8, f\"- Naïve Bayes Risk: {prob_nb*100:.2f}%\", ln=True)\n",
        "    pdf.ln(10)\n",
        "    pdf.add_page()\n",
        "    pdf.set_font(\"Arial\", \"B\", 14)\n",
        "    pdf.cell(0, 10, \"General Heart-Healthy Diet Plan\", ln=True, align='C')\n",
        "    pdf.ln(5)\n",
        "    pdf.set_font(\"Arial\", \"B\", 11)\n",
        "    pdf.cell(col_width, 8, diet_chart[0][0], border=1, align='C')\n",
        "    pdf.cell(col_width, 8, diet_chart[0][1], border=1, ln=1, align='C')\n",
        "    pdf.set_font(\"Arial\", \"\", 10)\n",
        "    for row in diet_chart[1:]:\n",
        "        pdf.cell(col_width, 8, row[0], border=1)\n",
        "        pdf.cell(col_width, 8, row[1], border=1, ln=1)\n",
        "    pdf.ln(10)\n",
        "    pdf.set_font(\"Arial\", \"I\", 9)\n",
        "    disclaimer = (\"Disclaimer: This report is generated by a machine learning model and is for informational purposes only. \"\n",
        "                  \"It is not a substitute for professional medical advice, diagnosis, or treatment. \"\n",
        "                  \"Always seek the advice of your physician or other qualified health provider with any questions you may have regarding a medical condition.\")\n",
        "    pdf.multi_cell(0, 5, disclaimer)\n",
        "    report_path = f\"/content/drive/My Drive/Colab_Notebooks/reports/{report_filename}.pdf\"\n",
        "    pdf.output(report_path)\n",
        "    print(f\"\\n✅ Report generated successfully: {report_path}\")\n",
        "\n",
        "# =============================================================================\n",
        "# 5. MAIN EXECUTION BLOCK\n",
        "# =============================================================================\n",
        "if __name__ == \"__main__\":\n",
        "    print(\"\\n--- Heart Disease Prediction System ---\")\n",
        "    print(\"Please enter the following health data to generate a report.\")\n",
        "    user_inputs = {}\n",
        "    for key, desc in feature_descriptions.items():\n",
        "        while True:\n",
        "            try:\n",
        "                user_inputs[desc] = float(input(f\"-> {desc}: \"))\n",
        "                break\n",
        "            except ValueError:\n",
        "                print(\"   Invalid input. Please enter a valid number.\")\n",
        "    input_df = pd.DataFrame([list(user_inputs.values())], columns=X.columns)\n",
        "    input_scaled = scaler.transform(input_df)\n",
        "    prob_log = log_reg.predict_proba(input_scaled)[:, 1][0]\n",
        "    prob_xgb = xgb_model.predict_proba(input_scaled)[:, 1][0]\n",
        "    prob_nb = nb_model.predict_proba(input_scaled)[:, 1][0]\n",
        "    avg_prob = (prob_log + prob_xgb + prob_nb) / 3\n",
        "    risk = risk_level(avg_prob)\n",
        "    generate_pdf_report(risk, prob_log, prob_xgb, prob_nb, user_inputs)\n",
        "\n"
      ]
    }
  ]
}